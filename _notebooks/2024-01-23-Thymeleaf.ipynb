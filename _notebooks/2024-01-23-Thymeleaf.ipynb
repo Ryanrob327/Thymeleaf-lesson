{
 "cells": [
  {
   "cell_type": "markdown",
   "metadata": {},
   "source": [
    "---\n",
    "toc: true\n",
    "comments: true\n",
    "layout: notebook\n",
    "title: Thymeleaf Lesson\n",
    "type: hacks\n",
    "---"
   ]
  },
  {
   "cell_type": "markdown",
   "metadata": {},
   "source": [
    "# What is ThymeLeaf \n",
    "- Thymeleaf is a template engine for server-side Java applications to create to create pages that can be displayed with within the browser. It can process the following templates: \n",
    "- HTML \n",
    "- XML \n",
    "- JavaScript \n",
    "- CSS\n",
    "- Plain text \n",
    "\n",
    "It is most commonly used to generate HTML content for websites. \n",
    "\n",
    "## Structure of Thymeleaf\n",
    "The templates used by Thymeleaf are just HTML5 files with extra properties added for dynamic content. "
   ]
  },
  {
   "cell_type": "code",
   "execution_count": null,
   "metadata": {
    "vscode": {
     "languageId": "java"
    }
   },
   "outputs": [],
   "source": [
    "<!DOCTYPE html>\n",
    "<html xmlns:th=\"http://www.thymeleaf.org\">\n",
    "<head>\n",
    "    <title>This is the title</title>\n",
    "</head>\n",
    "<body>\n",
    "    <h1 th:text=\"${message}\">hello</h1>\n",
    "</body>\n",
    "</html>"
   ]
  },
  {
   "cell_type": "markdown",
   "metadata": {},
   "source": [
    "the code defines a simple webpage with a title and a heading. The heading's text is set dynamically using Thymeleaf's syntax."
   ]
  },
  {
   "cell_type": "markdown",
   "metadata": {},
   "source": [
    "\n",
    "## Syntax of Thymeleaf\n",
    "\n",
    "## How does ThymeLeaf Work\n",
    "\n",
    "## Thymeleaf Attributes"
   ]
  },
  {
   "cell_type": "markdown",
   "metadata": {},
   "source": [
    "# Implementing CRUD with Thymeleaf and Spring \n",
    "\n",
    "Thymeleaf allows for seamless use of Spring to easily create CRUD applications through a layer of standard JPA-based CRUD repositories.\n",
    "\n",
    "## Integrating Thymeleaf with Spring with Maven\n",
    "```\n",
    "<parent>\n",
    "    <groupId>org.springframework.boot</groupId>\n",
    "    <artifactId>spring-boot-starter-parent</artifactId>\n",
    "</parent>\n",
    "<dependencies>\n",
    "    <dependency>\n",
    "        <groupId>org.springframework.boot</groupId>\n",
    "        <artifactId>spring-boot-starter-web</artifactId>\n",
    "    </dependency>\n",
    "    <dependency>\n",
    "        <groupId>org.springframework.boot</groupId>\n",
    "        <artifactId>spring-boot-starter-thymeleaf</artifactId>\n",
    "    </dependency>\n",
    "    <dependency>\n",
    "        <groupId>org.springframework.boot</groupId>\n",
    "        <artifactId>spring-boot-starter-data-jpa</artifactId>\n",
    "    </dependency>\n",
    "    <dependency>\n",
    "        <groupId>com.h2database</groupId>\n",
    "        <artifactId>h2</artifactId>\n",
    "    </dependency>\n",
    "</dependencies>\n",
    "\n",
    "```\n",
    "- Add the following dependencies to your pom.xml file\n",
    "The other thymeleaf dependencies you need should already be there. \n",
    "\n",
    "## Add the Domain Layer\n",
    "For simplicity’s sake, this layer will include one single class that will be responsible for modeling User entities:"
   ]
  },
  {
   "cell_type": "code",
   "execution_count": null,
   "metadata": {
    "vscode": {
     "languageId": "java"
    }
   },
   "outputs": [],
   "source": [
    "@Entity\n",
    "public class User {\n",
    "    \n",
    "    @Id\n",
    "    @GeneratedValue(strategy = GenerationType.AUTO)\n",
    "    private long id;\n",
    "    \n",
    "    @NotBlank(message = \"Name is mandatory\")\n",
    "    private String name;\n",
    "    \n",
    "    @NotBlank(message = \"Email is mandatory\")\n",
    "    private String email;\n",
    "\n",
    "    // standard constructors / setters / getters / toString\n",
    "}"
   ]
  },
  {
   "cell_type": "markdown",
   "metadata": {},
   "source": [
    "## The Repository Layer\n",
    "\n",
    "Spring Data JPA is a key component of Spring Boot’s spring-boot-starter-data-jpa that makes it easy to add CRUD functionality through a powerful layer of abstraction placed on top of a JPA implementation. This abstraction layer allows us to access the persistence layer without having to provide our own DAO implementations from scratch.\n",
    "\n",
    "To provide our application with basic CRUD functionality on User objects, we just need to extend the CrudRepository interface:"
   ]
  },
  {
   "cell_type": "code",
   "execution_count": null,
   "metadata": {
    "vscode": {
     "languageId": "java"
    }
   },
   "outputs": [],
   "source": [
    "@Repository\n",
    "public interface UserRepository extends CrudRepository<User, Long> {}"
   ]
  },
  {
   "cell_type": "markdown",
   "metadata": {},
   "source": [
    "## The Controller Layer\n",
    "\n",
    "Thanks to the layer of abstraction that spring-boot-starter-data-jpa places on top of the underlying JPA implementation, we can easily add some CRUD functionality to our web application through a basic web tier.\n",
    "\n",
    "In our case, a single controller class will suffice for handling GET and POST HTTP requests and then mapping them to calls to our UserRepository implementation.\n",
    "\n",
    "Let’s start with the controller’s showSignUpForm() and addUser() methods.\n",
    "\n",
    "The former will display the user signup form, while the latter will persist a new entity in the database after validating the constrained fields.\n",
    "\n",
    "If the entity doesn’t pass the validation, the signup form will be redisplayed.\n",
    "\n",
    "Otherwise, once the entity has been saved, the list of persisted entities will be updated in the corresponding view:"
   ]
  },
  {
   "cell_type": "code",
   "execution_count": null,
   "metadata": {
    "vscode": {
     "languageId": "java"
    }
   },
   "outputs": [],
   "source": [
    "@Controller\n",
    "public class UserController {\n",
    "    \n",
    "    @GetMapping(\"/signup\")\n",
    "    public String showSignUpForm(User user) {\n",
    "        return \"add-user\";\n",
    "    }\n",
    "    \n",
    "    @PostMapping(\"/adduser\")\n",
    "    public String addUser(@Valid User user, BindingResult result, Model model) {\n",
    "        if (result.hasErrors()) {\n",
    "            return \"add-user\";\n",
    "        }\n",
    "        \n",
    "        userRepository.save(user);\n",
    "        return \"redirect:/index\";\n",
    "    }\n",
    "\n",
    "    // additional CRUD methods\n",
    "}"
   ]
  },
  {
   "cell_type": "markdown",
   "metadata": {},
   "source": [
    "Mapping for the /index URL:"
   ]
  },
  {
   "cell_type": "code",
   "execution_count": null,
   "metadata": {
    "vscode": {
     "languageId": "java"
    }
   },
   "outputs": [],
   "source": [
    "@GetMapping(\"/index\")\n",
    "public String showUserList(Model model) {\n",
    "    model.addAttribute(\"users\", userRepository.findAll());\n",
    "    return \"index\";\n",
    "}"
   ]
  },
  {
   "cell_type": "markdown",
   "metadata": {},
   "source": [
    "Within the UserController, we will also have the showUpdateForm() method, which is responsible for fetching the User entity that matches the supplied id from the database.\n",
    "\n",
    "If the entity exists, it will be passed on as a model attribute to the update form view.\n",
    "\n",
    "So, the form can be populated with the values of the name and email fields:"
   ]
  },
  {
   "cell_type": "code",
   "execution_count": null,
   "metadata": {
    "vscode": {
     "languageId": "java"
    }
   },
   "outputs": [],
   "source": [
    "@GetMapping(\"/edit/{id}\")\n",
    "public String showUpdateForm(@PathVariable(\"id\") long id, Model model) {\n",
    "    User user = userRepository.findById(id)\n",
    "      .orElseThrow(() -> new IllegalArgumentException(\"Invalid user Id:\" + id));\n",
    "    \n",
    "    model.addAttribute(\"user\", user);\n",
    "    return \"update-user\";\n",
    "}"
   ]
  },
  {
   "cell_type": "markdown",
   "metadata": {},
   "source": [
    "Finally, we have the updateUser() and deleteUser() methods within the UserController class.\n",
    "\n",
    "The first one will persist the updated entity in the database, while the last one will remove the given entity.\n",
    "\n",
    "In either case, the list of persisted entities will be updated accordingly:"
   ]
  },
  {
   "cell_type": "code",
   "execution_count": null,
   "metadata": {
    "vscode": {
     "languageId": "java"
    }
   },
   "outputs": [],
   "source": [
    "@PostMapping(\"/update/{id}\")\n",
    "public String updateUser(@PathVariable(\"id\") long id, @Valid User user, \n",
    "  BindingResult result, Model model) {\n",
    "    if (result.hasErrors()) {\n",
    "        user.setId(id);\n",
    "        return \"update-user\";\n",
    "    }\n",
    "        \n",
    "    userRepository.save(user);\n",
    "    return \"redirect:/index\";\n",
    "}\n",
    "    \n",
    "@GetMapping(\"/delete/{id}\")\n",
    "public String deleteUser(@PathVariable(\"id\") long id, Model model) {\n",
    "    User user = userRepository.findById(id)\n",
    "      .orElseThrow(() -> new IllegalArgumentException(\"Invalid user Id:\" + id));\n",
    "    userRepository.delete(user);\n",
    "    return \"redirect:/index\";\n",
    "}"
   ]
  },
  {
   "cell_type": "markdown",
   "metadata": {},
   "source": [
    "## Adding the View Layer\n",
    "\n",
    "Under the src/main/resources/templates folder, we need to create the HTML templates required for displaying the signup form and the update form as well as rendering the list of persisted User entities.\n",
    "\n",
    "As stated in the introduction, we’ll use Thymeleaf as the underlying template engine for parsing the template files.\n",
    "\n",
    "Here’s the relevant section of the add-user.html file:\n",
    "```\n",
    "<form action=\"#\" th:action=\"@{/adduser}\" th:object=\"${user}\" method=\"post\">\n",
    "    <label for=\"name\">Name</label>\n",
    "    <input type=\"text\" th:field=\"*{name}\" id=\"name\" placeholder=\"Name\">\n",
    "    <span th:if=\"${#fields.hasErrors('name')}\" th:errors=\"*{name}\"></span>\n",
    "    <label for=\"email\">Email</label>\n",
    "    <input type=\"text\" th:field=\"*{email}\" id=\"email\" placeholder=\"Email\">\n",
    "    <span th:if=\"${#fields.hasErrors('email')}\" th:errors=\"*{email}\"></span>\n",
    "    <input type=\"submit\" value=\"Add User\">   \n",
    "</form>\n",
    "```"
   ]
  },
  {
   "cell_type": "markdown",
   "metadata": {},
   "source": [
    "And here's how the update-user.html file looks like:\n",
    "\n",
    "```\n",
    "<form action=\"#\" \n",
    "  th:action=\"@{/update/{id}(id=${user.id})}\" \n",
    "  th:object=\"${user}\" \n",
    "  method=\"post\">\n",
    "    <label for=\"name\">Name</label>\n",
    "    <input type=\"text\" th:field=\"*{name}\" id=\"name\" placeholder=\"Name\">\n",
    "    <span th:if=\"${#fields.hasErrors('name')}\" th:errors=\"*{name}\"></span>\n",
    "    <label for=\"email\">Email</label>\n",
    "    <input type=\"text\" th:field=\"*{email}\" id=\"email\" placeholder=\"Email\">\n",
    "    <span th:if=\"${#fields.hasErrors('email')}\" th:errors=\"*{email}\"></span>\n",
    "    <input type=\"submit\" value=\"Update User\">   \n",
    "</form>\n",
    "```"
   ]
  },
  {
   "cell_type": "markdown",
   "metadata": {},
   "source": [
    "Finally, we have the index.html file that displays the list of persisted entities along with the links for editing and removing existing ones:\n",
    "\n",
    "```\n",
    "<div th:switch=\"${users}\">\n",
    "    <h2 th:case=\"null\">No users yet!</h2>\n",
    "        <div th:case=\"*\">\n",
    "            <h2>Users</h2>\n",
    "            <table>\n",
    "                <thead>\n",
    "                    <tr>\n",
    "                        <th>Name</th>\n",
    "                        <th>Email</th>\n",
    "                        <th>Edit</th>\n",
    "                        <th>Delete</th>\n",
    "                    </tr>\n",
    "                </thead>\n",
    "                <tbody>\n",
    "                <tr th:each=\"user : ${users}\">\n",
    "                    <td th:text=\"${user.name}\"></td>\n",
    "                    <td th:text=\"${user.email}\"></td>\n",
    "                    <td><a th:href=\"@{/edit/{id}(id=${user.id})}\">Edit</a></td>\n",
    "                    <td><a th:href=\"@{/delete/{id}(id=${user.id})}\">Delete</a></td>\n",
    "                </tr>\n",
    "            </tbody>\n",
    "        </table>\n",
    "    </div>      \n",
    "    <p><a href=\"/signup\">Add a new user</a></p>\n",
    "</div>\n",
    "\n",
    "```"
   ]
  }
 ],
 "metadata": {
  "language_info": {
   "name": "python"
  },
  "orig_nbformat": 4
 },
 "nbformat": 4,
 "nbformat_minor": 2
}
