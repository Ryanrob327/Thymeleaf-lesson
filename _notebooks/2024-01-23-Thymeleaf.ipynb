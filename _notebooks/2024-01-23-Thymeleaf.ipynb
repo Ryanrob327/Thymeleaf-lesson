{
 "cells": [
  {
   "cell_type": "markdown",
   "metadata": {},
   "source": [
    "---\n",
    "toc: true\n",
    "comments: true\n",
    "layout: notebook\n",
    "title: Thymeleaf Lesson\n",
    "type: hacks\n",
    "---"
   ]
  },
  {
   "cell_type": "markdown",
   "metadata": {},
   "source": [
    "# Thymeleaf Lesson"
   ]
  },
  {
   "cell_type": "markdown",
   "metadata": {},
   "source": [
    "## Integrating Thymeleaf with Spring"
   ]
  },
  {
   "cell_type": "markdown",
   "metadata": {},
   "source": [
    "## Implementing CRUD with Thymeleaf and Spring \n",
    "\n",
    "Thymeleaf allows for seamless use of Spring to easily create CRUD applications through a layer of standard JPA-based CRUD repositories."
   ]
  },
  {
   "cell_type": "markdown",
   "metadata": {},
   "source": [
    "### Maven Dependencies\n",
    "\n",
    "##### Add the following dependencies to your pom.xml file\n",
    "The other thymeleaf dependencies you need should already be there. \n",
    "\n",
    "```\n",
    "<parent>\n",
    "    <groupId>org.springframework.boot</groupId>\n",
    "    <artifactId>spring-boot-starter-parent</artifactId>\n",
    "</parent>\n",
    "<dependencies>\n",
    "    <dependency>\n",
    "        <groupId>org.springframework.boot</groupId>\n",
    "        <artifactId>spring-boot-starter-web</artifactId>\n",
    "    </dependency>\n",
    "    <dependency>\n",
    "        <groupId>org.springframework.boot</groupId>\n",
    "        <artifactId>spring-boot-starter-thymeleaf</artifactId>\n",
    "    </dependency>\n",
    "    <dependency>\n",
    "        <groupId>org.springframework.boot</groupId>\n",
    "        <artifactId>spring-boot-starter-data-jpa</artifactId>\n",
    "    </dependency>\n",
    "    <dependency>\n",
    "        <groupId>com.h2database</groupId>\n",
    "        <artifactId>h2</artifactId>\n",
    "    </dependency>\n",
    "</dependencies>\n",
    "\n",
    "```"
   ]
  },
  {
   "cell_type": "markdown",
   "metadata": {},
   "source": [
    "### Add the Domain Layer\n"
   ]
  }
 ],
 "metadata": {
  "language_info": {
   "name": "python"
  },
  "orig_nbformat": 4
 },
 "nbformat": 4,
 "nbformat_minor": 2
}
