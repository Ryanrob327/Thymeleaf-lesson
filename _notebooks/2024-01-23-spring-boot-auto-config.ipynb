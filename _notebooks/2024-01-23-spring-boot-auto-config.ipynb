{
 "cells": [
  {
   "cell_type": "markdown",
   "metadata": {},
   "source": [
    "---\n",
    "toc: true\n",
    "comments: true\n",
    "layout: notebook\n",
    "title: spring boot auto config\n",
    "type: hacks\n",
    "---"
   ]
  },
  {
   "cell_type": "markdown",
   "metadata": {},
   "source": [
    "# Auto-Configuration:\n",
    "\n",
    "In Spring Boot, Auto-Configuration automatically configures beans based on the dependencies present in the classpath. Thymeleaf Auto-Configuration simplifies the configuration of Thymeleaf-related beans, making it easy to integrate Thymeleaf into your Spring Boot application without extensive manual setup.\n",
    "\n",
    "### Steps to Enable Thymeleaf Auto-Configuration:\n",
    "\n",
    "1. Ensure that you have the Thymeleaf dependency in your pom.xml:\n",
    "   \n",
    "```\n",
    "<dependency>\n",
    "    <groupId>org.springframework.boot</groupId>\n",
    "    <artifactId>spring-boot-starter-thymeleaf</artifactId>\n",
    "</dependency>\n",
    "```\n",
    "\n",
    "2. HTML Templates in src/main/resources/templates:\n",
    "\n",
    "Thymeleaf looks for templates in the src/main/resources/templates directory by default. Create HTML templates in this directory.\n",
    "\n",
    "3. Application Properties:\n",
    "\n",
    "Spring Boot provides sensible default configurations for Thymeleaf. You can customize properties in application.properties if needed. For example:\n",
    "\n",
    "```\n",
    "spring.thymeleaf.prefix=classpath:/templates/\n",
    "spring.thymeleaf.suffix=.html\n",
    "```\n",
    "\n",
    "This configuration sets the template prefix and suffix."
   ]
  },
  {
   "cell_type": "code",
   "execution_count": null,
   "metadata": {},
   "outputs": [],
   "source": []
  }
 ],
 "metadata": {
  "language_info": {
   "name": "python"
  }
 },
 "nbformat": 4,
 "nbformat_minor": 2
}
